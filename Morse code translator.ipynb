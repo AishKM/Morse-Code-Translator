{
 "cells": [
  {
   "cell_type": "code",
   "execution_count": 1,
   "id": "15098f09-4d98-44c6-a0a1-6d67ae500454",
   "metadata": {},
   "outputs": [
    {
     "name": "stdout",
     "output_type": "stream",
     "text": [
      "Choose any of the following: \n",
      " 1. Already have an existing account\n",
      " 2. Create a new account\n",
      "\n"
     ]
    },
    {
     "name": "stdin",
     "output_type": "stream",
     "text": [
      " 1\n",
      "enter your account id: aishwarya\n",
      "enter password: 10000\n",
      "Choose an option (1 for text to Morse, 2 for Morse to text, 3 to exit):  1\n",
      "Enter the text to convert to Morse code:  hello world\n"
     ]
    },
    {
     "name": "stdout",
     "output_type": "stream",
     "text": [
      "Morse code:  .... . .-.. .-.. ---   .-- --- .-. .-.. -.. \n"
     ]
    },
    {
     "name": "stdin",
     "output_type": "stream",
     "text": [
      "Choose an option (1 for text to Morse, 2 for Morse to text, 3 to exit):  3\n"
     ]
    },
    {
     "name": "stdout",
     "output_type": "stream",
     "text": [
      "Exiting program.\n"
     ]
    }
   ],
   "source": [
    "d={'aishwarya':'10000','chandana':'12345'}\n",
    "print(\"Choose any of the following: \\n 1. Already have an existing account\\n 2. Create a new account\\n\")\n",
    "choice=input()\n",
    "if '1'==choice:\n",
    "    login_id=input(\"enter your account id:\")\n",
    "    password=input(\"enter password:\")\n",
    "    if password==d[login_id]:\n",
    "        class MorseCodeTranslator:\n",
    "            def __init__(self):\n",
    "                self.morse_code_dict = {\n",
    "                'A': '.-', 'B': '-...', 'C': '-.-.', 'D': '-..', 'E': '.', 'F': '..-.',\n",
    "                'G': '--.', 'H': '....', 'I': '..', 'J     ': '.---', 'K': '-.-', 'L': '.-..',\n",
    "                'M': '--', 'N': '-.', 'O': '---', 'P': '.--.', 'Q': '--.-', 'R': '.-.',\n",
    "                'S': '...', 'T': '-', 'U': '..-', 'V': '...-', 'W': '.--', 'X': '-..-',\n",
    "                'Y': '-.--', 'Z': '--..',\n",
    "                '0': '-----', '1': '.----', '2': '..---', '3': '...--', '4': '....-', '5': '.....',\n",
    "                '6': '-....', '7': '--...', '8': '---..', '9': '----.',\n",
    "                ' ': ' '\n",
    "                }\n",
    "\n",
    "            def text_to_morse(self, text):\n",
    "                text = text.upper()\n",
    "                morse_code = ''\n",
    "                for char in text:\n",
    "                    if char in self.morse_code_dict:\n",
    "                        morse_code += self.morse_code_dict[char] + ' '\n",
    "                    else:\n",
    "                        morse_code += char  # If character is not in the dictionary, keep it as is\n",
    "                return morse_code\n",
    "\n",
    "            def morse_to_text(self, morse_code):\n",
    "                morse_code = morse_code.split(' ')\n",
    "                text = ''\n",
    "                for symbol in morse_code:\n",
    "                    if symbol in self.morse_code_dict.values():\n",
    "                        text += [char for char, code in self.morse_code_dict.items() if code == symbol][0]\n",
    "                    else:\n",
    "                        text += symbol  # If symbol is not in the dictionary, keep it as is\n",
    "                return text\n",
    "\n",
    "    # Main program\n",
    "        translator = MorseCodeTranslator()\n",
    "\n",
    "        while True:\n",
    "            choice = input(\"Choose an option (1 for text to Morse, 2 for Morse to text, 3 to exit): \")\n",
    "            if choice == '1':\n",
    "                text = input(\"Enter the text to convert to Morse code: \")\n",
    "                morse_code = translator.text_to_morse(text)\n",
    "                print(\"Morse code: \", morse_code)\n",
    "            elif choice == '2':\n",
    "                morse_code = input(\"Enter the Morse code to convert to text: \")\n",
    "                text = translator.morse_to_text(morse_code)\n",
    "                print(\"Text: \", text)\n",
    "            elif choice == '3':\n",
    "                print(\"Exiting program.\")\n",
    "                break\n",
    "            else:\n",
    "                print(\"Invalid choice. Please enter 1, 2, or 3.\")\n",
    "                \n",
    "elif '2'==choice:\n",
    "    login_id=input(\"enter account id:\")\n",
    "    print(\"enter a 5 digit password:\")\n",
    "    password=input(\"enter password:\")\n",
    "    while password.isdecimal()!=True or (5==len(password))==False:\n",
    "        password=input('enter 5 DIGIT password:')\n",
    "    if password.isdecimal() and 5==len(password):\n",
    "        d[login_id]=password\n",
    "        print(\"your account is created\")\n",
    "        while True:\n",
    "            choice = input(\"Choose an option (1 for text to Morse, 2 for Morse to text, 3 to exit): \")\n",
    "            if choice == '1':\n",
    "                text = input(\"Enter the text to convert to Morse code: \")\n",
    "                morse_code = translator.text_to_morse(text)\n",
    "                print(\"Morse code: \", morse_code)\n",
    "            elif choice == '2':\n",
    "                morse_code = input(\"Enter the Morse code to convert to text: \")\n",
    "                text = translator.morse_to_text(morse_code)\n",
    "                print(\"Text: \", text)\n",
    "            elif choice == '3':\n",
    "                print(\"Exiting program.\")\n",
    "                break\n",
    "            else:\n",
    "                print(\"Invalid choice. Please enter 1, 2, or 3.\")"
   ]
  },
  {
   "cell_type": "code",
   "execution_count": null,
   "id": "a923b867-52a2-4a09-b633-b347056d2ced",
   "metadata": {},
   "outputs": [],
   "source": []
  }
 ],
 "metadata": {
  "kernelspec": {
   "display_name": "Python 3 (ipykernel)",
   "language": "python",
   "name": "python3"
  },
  "language_info": {
   "codemirror_mode": {
    "name": "ipython",
    "version": 3
   },
   "file_extension": ".py",
   "mimetype": "text/x-python",
   "name": "python",
   "nbconvert_exporter": "python",
   "pygments_lexer": "ipython3",
   "version": "3.12.4"
  }
 },
 "nbformat": 4,
 "nbformat_minor": 5
}
